{
 "cells": [
  {
   "cell_type": "markdown",
   "metadata": {},
   "source": [
    "<h1 style=\"color:red\">Heart Disease Prediction System – Machine Learning Cycle</h1>"
   ]
  },
  {
   "cell_type": "markdown",
   "metadata": {},
   "source": [
    "# Machine Learning Cycle\n",
    "\n",
    "### Four phases of a Machine Learning Cycle are\n",
    "\n",
    "### Training Phase\n",
    "\n",
    "    Build the Model using Training Data\n",
    "\n",
    "### Testing Phase\n",
    "\n",
    "     Evaluate the performance of Model using Testing Data\n",
    "\n",
    "### Application Phase\n",
    "\n",
    "     Deploy the Model in the Real-world, to predict Real-time unseen Data\n",
    "\n",
    "### Feedback Phase\n",
    "\n",
    "    Take Feedback from the Users and Domain Experts to improve the Model\n"
   ]
  },
  {
   "cell_type": "markdown",
   "metadata": {},
   "source": [
    "<h1 style=\"color:red\">Executing Machine Learning Cycle Using a Single File</h1>"
   ]
  },
  {
   "cell_type": "markdown",
   "metadata": {},
   "source": [
    "### In Sha Allah, we will follow the following steps to execute the Machine Learning Cycle Using a Single File\n",
    "\n",
    "#### Step 1: Import Libraries\n",
    "\n",
    "#### Step 2: Load Sample Data\n",
    "\n",
    "#### Step 3: Understand and Pre-process Sample Data\n",
    "    \n",
    "    Step 3.1: Understand Sample Data\n",
    "    \n",
    "    Step 3.2: Pre-process Sample Data\n",
    "\n",
    "#### Step 4: Feature Extraction \n",
    "\n",
    "#### Step 5: Label Encoding (Input and Output is converted in Numeric Representation)\n",
    "\n",
    "    Step 5.1: Train the Label Encoder\n",
    "\n",
    "    Step 5.2: Label Encode the Output\n",
    "\n",
    "    Step 5.3: Label Encode the Input \n",
    "\n",
    "#### Step 6: Execute the Training Phase\n",
    "\n",
    "    Step 6.1: Splitting Sample Data into Training Data and Testing Data \n",
    "\n",
    "    Step 6.2: Splitting Input Vectors and Outputs / Labels of Training Data\n",
    "\n",
    "    Step 6.3: Train the Support Vector Classifier\n",
    "\n",
    "    Step 6.4: Save the Trained Model\n",
    "\n",
    "#### Step 7: Execute the Testing Phase \n",
    "\n",
    "    Step 7.1: Splitting Input Vectors and Outputs/Labels of Testing Data\n",
    "    \n",
    "    Step 7.2: Load the Saved Model\n",
    "    \n",
    "    Step 7.3: Evaluate the Performance of Trained Model\n",
    "\n",
    "        Step 7.3.1: Make Predictions with the Trained Model on Testing Data\n",
    "\n",
    "    Step 7.4: Calculate the Accuracy Score\n",
    "\n",
    "#### Step 8: Execute the Application Phase \n",
    "\n",
    "    Step 8.1: Take Input from User \n",
    "\n",
    "    Step 8.2: Convert User Input into Feature Vector (Exactly Same as Feature Vectors of Sample Data)\n",
    "\n",
    "    Step 8.3: Label Encoding of Feature Vector (Exactly Same as Label Encoded Feature Vectors of Sample Data)\n",
    "\n",
    "    Step 8.4: Load the Saved Model\n",
    "\n",
    "    Step 8.5: Model Prediction\n",
    "\n",
    "         Step 8.5.1: Apply Model on the Label Encoded Feature Vector of unseen instance and return Prediction to the User\n",
    "\n",
    "#### Step 9: Execute the Feedback Phase \n",
    "\n",
    "#### Step 10: Improve the Model based on Feedback"
   ]
  },
  {
   "cell_type": "markdown",
   "metadata": {},
   "source": [
    "# Step 1: Import Libraries"
   ]
  },
  {
   "cell_type": "code",
   "execution_count": 3,
   "metadata": {},
   "outputs": [
    {
     "name": "stdout",
     "output_type": "stream",
     "text": [
      "Requirement already satisfied: numpy in c:\\users\\haris ellahi\\anaconda3\\lib\\site-packages (1.23.5)\n",
      "Requirement already satisfied: pandas in c:\\users\\haris ellahi\\anaconda3\\lib\\site-packages (1.5.3)\n",
      "Requirement already satisfied: scikit-learn in c:\\users\\haris ellahi\\anaconda3\\lib\\site-packages (1.2.1)\n",
      "Requirement already satisfied: prettytable in c:\\users\\haris ellahi\\anaconda3\\lib\\site-packages (3.10.2)\n",
      "Requirement already satisfied: astropy in c:\\users\\haris ellahi\\anaconda3\\lib\\site-packages (5.1)\n",
      "Requirement already satisfied: python-dateutil>=2.8.1 in c:\\users\\haris ellahi\\anaconda3\\lib\\site-packages (from pandas) (2.8.2)\n",
      "Requirement already satisfied: pytz>=2020.1 in c:\\users\\haris ellahi\\anaconda3\\lib\\site-packages (from pandas) (2022.7)\n",
      "Requirement already satisfied: threadpoolctl>=2.0.0 in c:\\users\\haris ellahi\\anaconda3\\lib\\site-packages (from scikit-learn) (2.2.0)\n",
      "Requirement already satisfied: scipy>=1.3.2 in c:\\users\\haris ellahi\\anaconda3\\lib\\site-packages (from scikit-learn) (1.10.0)\n",
      "Requirement already satisfied: joblib>=1.1.1 in c:\\users\\haris ellahi\\anaconda3\\lib\\site-packages (from scikit-learn) (1.1.1)\n",
      "Requirement already satisfied: wcwidth in c:\\users\\haris ellahi\\anaconda3\\lib\\site-packages (from prettytable) (0.2.5)\n",
      "Requirement already satisfied: packaging>=19.0 in c:\\users\\haris ellahi\\anaconda3\\lib\\site-packages (from astropy) (23.2)\n",
      "Requirement already satisfied: PyYAML>=3.13 in c:\\users\\haris ellahi\\anaconda3\\lib\\site-packages (from astropy) (6.0)\n",
      "Requirement already satisfied: pyerfa>=2.0 in c:\\users\\haris ellahi\\anaconda3\\lib\\site-packages (from astropy) (2.0.0)\n",
      "Requirement already satisfied: six>=1.5 in c:\\users\\haris ellahi\\anaconda3\\lib\\site-packages (from python-dateutil>=2.8.1->pandas) (1.16.0)\n",
      "Note: you may need to restart the kernel to use updated packages.\n"
     ]
    }
   ],
   "source": [
    "pip install numpy pandas scikit-learn prettytable astropy\n"
   ]
  },
  {
   "cell_type": "code",
   "execution_count": 28,
   "metadata": {},
   "outputs": [],
   "source": [
    "# Import Libraries\n",
    "\n",
    "import numpy as np\n",
    "import pandas as pd\n",
    "import pickle\n",
    "\n",
    "from sklearn.model_selection import train_test_split\n",
    "from sklearn import svm\n",
    "from sklearn.metrics import accuracy_score\n",
    "\n",
    "from prettytable import PrettyTable   \n",
    "from astropy.table import Table, Column"
   ]
  },
  {
   "cell_type": "markdown",
   "metadata": {},
   "source": [
    "# Step 2: Load Sample Data"
   ]
  },
  {
   "cell_type": "code",
   "execution_count": 29,
   "metadata": {},
   "outputs": [
    {
     "name": "stdout",
     "output_type": "stream",
     "text": [
      "\n",
      "\n",
      "Sample Data:\n",
      "============\n",
      "\n",
      "    age  sex  trestbps  chol  target\n",
      "0    63    1       145   233       1\n",
      "1    37    1       130   250       1\n",
      "2    41    0       130   204       1\n",
      "3    56    1       120   236       1\n",
      "4    57    0       120   354       1\n",
      "5    57    1       140   192       1\n",
      "6    56    0       140   294       1\n",
      "7    44    1       120   263       1\n",
      "8    52    1       172   199       1\n",
      "9    57    1       150   168       1\n",
      "10   54    1       140   239       1\n",
      "11   48    0       130   275       1\n",
      "12   49    1       130   266       1\n",
      "13   64    1       110   211       1\n",
      "14   58    0       150   283       1\n",
      "15   50    0       120   219       1\n",
      "16   58    0       120   340       1\n",
      "17   66    0       150   226       1\n",
      "18   43    1       150   247       1\n",
      "19   69    0       140   239       1\n",
      "20   59    1       135   234       1\n",
      "21   44    1       130   233       1\n",
      "22   42    1       140   226       1\n",
      "23   61    1       150   243       1\n",
      "24   40    1       140   199       1\n",
      "25   71    0       160   302       1\n",
      "26   59    1       150   212       1\n",
      "27   51    1       110   175       1\n",
      "28   65    0       140   417       1\n",
      "29   53    1       130   197       1\n",
      "30   41    0       105   198       1\n",
      "31   65    1       120   177       1\n",
      "32   44    1       130   219       1\n",
      "33   54    1       125   273       1\n",
      "34   51    1       125   213       1\n",
      "35   46    0       142   177       1\n",
      "36   54    0       135   304       1\n",
      "37   54    1       150   232       1\n",
      "38   65    0       155   269       1\n",
      "39   65    0       160   360       1\n",
      "40   51    0       140   308       1\n",
      "41   48    1       130   245       1\n",
      "42   45    1       104   208       1\n",
      "43   53    0       130   264       1\n",
      "44   39    1       140   321       1\n",
      "45   52    1       120   325       1\n",
      "46   44    1       140   235       1\n",
      "47   47    1       138   257       1\n",
      "48   53    0       128   216       1\n",
      "49   53    0       138   234       1\n",
      "50   67    1       160   286       0\n",
      "51   67    1       120   229       0\n",
      "52   62    0       140   268       0\n",
      "53   63    1       130   254       0\n",
      "54   53    1       140   203       0\n",
      "55   56    1       130   256       0\n",
      "56   48    1       110   229       0\n",
      "57   58    1       120   284       0\n",
      "58   58    1       132   224       0\n",
      "59   60    1       130   206       0\n",
      "60   40    1       110   167       0\n",
      "61   60    1       117   230       0\n",
      "62   64    1       140   335       0\n",
      "63   43    1       120   177       0\n",
      "64   57    1       150   276       0\n",
      "65   55    1       132   353       0\n",
      "66   65    0       150   225       0\n",
      "67   61    0       130   330       0\n",
      "68   58    1       112   230       0\n",
      "69   50    1       150   243       0\n",
      "70   44    1       112   290       0\n",
      "71   60    1       130   253       0\n",
      "72   54    1       124   266       0\n",
      "73   50    1       140   233       0\n",
      "74   41    1       110   172       0\n",
      "75   51    0       130   305       0\n",
      "76   58    1       128   216       0\n",
      "77   54    1       120   188       0\n",
      "78   60    1       145   282       0\n",
      "79   60    1       140   185       0\n",
      "80   59    1       170   326       0\n",
      "81   46    1       150   231       0\n",
      "82   67    1       125   254       0\n",
      "83   62    1       120   267       0\n",
      "84   65    1       110   248       0\n",
      "85   44    1       110   197       0\n",
      "86   60    1       125   258       0\n",
      "87   58    1       150   270       0\n",
      "88   68    1       180   274       0\n",
      "89   62    0       160   164       0\n",
      "90   52    1       128   255       0\n",
      "91   59    1       110   239       0\n",
      "92   60    0       150   258       0\n",
      "93   49    1       120   188       0\n",
      "94   59    1       140   177       0\n",
      "95   57    1       128   229       0\n",
      "96   61    1       120   260       0\n",
      "97   39    1       118   219       0\n",
      "98   61    0       145   307       0\n",
      "99   56    1       125   249       0\n"
     ]
    }
   ],
   "source": [
    "# Load Sample Data\n",
    "\n",
    "''' \n",
    "*---------------------- LOAD_SAMPLE_DATA ------------------------*\n",
    "|     Function: read_csv()                                       |\n",
    "|             Purpose: Read a dataset in CSV file format         |\n",
    "|     Arguments:                                                 |\n",
    "|             path: Path to dataset file                         |\n",
    "|             dataset: Dataset file name                         |\n",
    "|     Return:                                                    |\n",
    "|             dataset: Dataset in DataFrame format               |\n",
    "*----------------------------------------------------------------*\n",
    "'''\n",
    " \n",
    "sample_data = pd.read_csv(\"heart-disease-sample-data.csv\")\n",
    "\n",
    "print(\"\\n\\nSample Data:\")\n",
    "print(\"============\\n\")\n",
    "pd.set_option(\"display.max_rows\", None, \"display.max_columns\", None)\n",
    "print(sample_data)"
   ]
  },
  {
   "cell_type": "markdown",
   "metadata": {},
   "source": [
    "# Step 3: Understand and Pre-process Sample Data"
   ]
  },
  {
   "cell_type": "markdown",
   "metadata": {},
   "source": [
    "## Step 3.1: Understand Sample Data"
   ]
  },
  {
   "cell_type": "code",
   "execution_count": 30,
   "metadata": {},
   "outputs": [
    {
     "name": "stdout",
     "output_type": "stream",
     "text": [
      "\n",
      "\n",
      "Attributes in Sample Data:\n",
      "==========================\n",
      "\n",
      "Index(['age', 'sex', 'trestbps', 'chol', 'target'], dtype='object')\n",
      "\n",
      "\n",
      "Number of Instances in Sample Data: 100\n",
      "========================================\n",
      "\n"
     ]
    }
   ],
   "source": [
    "# Understand Sample Data\n",
    "\n",
    "print(\"\\n\\nAttributes in Sample Data:\")\n",
    "print(\"==========================\\n\")\n",
    "\n",
    "print(sample_data.columns)\n",
    "\n",
    "print(\"\\n\\nNumber of Instances in Sample Data:\",sample_data[\"age\"].count())\n",
    "print(\"========================================\\n\")"
   ]
  },
  {
   "cell_type": "markdown",
   "metadata": {},
   "source": [
    "## Step 3.2: Pre-process Sample Data\n",
    "    o\tSample Data is already Preprocessed\n",
    "    o\tNo Preprocessing needs to be Performed "
   ]
  },
  {
   "cell_type": "markdown",
   "metadata": {},
   "source": [
    "# Step 4: Feature Extraction\n",
    "    o\tFeatures are already Extracted\n",
    "    o\tNo Feature Extraction needs to be Performed"
   ]
  },
  {
   "cell_type": "markdown",
   "metadata": {},
   "source": [
    "# Step 5: Label Encoding the Sample Data (Input and Output is converted in Numeric Representation)"
   ]
  },
  {
   "cell_type": "markdown",
   "metadata": {},
   "source": [
    "## Step 5.1: Train the Label Encoder"
   ]
  },
  {
   "cell_type": "markdown",
   "metadata": {},
   "source": [
    "## Step 5.2: Label Encode the Output"
   ]
  },
  {
   "cell_type": "markdown",
   "metadata": {},
   "source": [
    "## Step 5.3: Label Encode the Input"
   ]
  },
  {
   "cell_type": "markdown",
   "metadata": {},
   "source": [
    "Data already in numerical form so don't apply label encoding"
   ]
  },
  {
   "cell_type": "markdown",
   "metadata": {},
   "source": [
    "# Step 6: Execute the Training Phase "
   ]
  },
  {
   "cell_type": "markdown",
   "metadata": {},
   "source": [
    "## Step 6.1: Splitting Sample Data into Training Data and Testing Data"
   ]
  },
  {
   "cell_type": "code",
   "execution_count": 60,
   "metadata": {},
   "outputs": [
    {
     "name": "stdout",
     "output_type": "stream",
     "text": [
      "\n",
      "\n",
      "Training Data:\n",
      "==============\n",
      "\n",
      "    age  sex  trestbps  chol  target\n",
      "43   53    0       130   264       1\n",
      "62   64    1       140   335       0\n",
      "3    56    1       120   236       1\n",
      "71   60    1       130   253       0\n",
      "45   52    1       120   325       1\n",
      "48   53    0       128   216       1\n",
      "6    56    0       140   294       1\n",
      "99   56    1       125   249       0\n",
      "82   67    1       125   254       0\n",
      "76   58    1       128   216       0\n",
      "60   40    1       110   167       0\n",
      "80   59    1       170   326       0\n",
      "90   52    1       128   255       0\n",
      "68   58    1       112   230       0\n",
      "51   67    1       120   229       0\n",
      "27   51    1       110   175       1\n",
      "18   43    1       150   247       1\n",
      "56   48    1       110   229       0\n",
      "63   43    1       120   177       0\n",
      "74   41    1       110   172       0\n",
      "1    37    1       130   250       1\n",
      "61   60    1       117   230       0\n",
      "42   45    1       104   208       1\n",
      "41   48    1       130   245       1\n",
      "4    57    0       120   354       1\n",
      "15   50    0       120   219       1\n",
      "17   66    0       150   226       1\n",
      "40   51    0       140   308       1\n",
      "38   65    0       155   269       1\n",
      "5    57    1       140   192       1\n",
      "91   59    1       110   239       0\n",
      "59   60    1       130   206       0\n",
      "0    63    1       145   233       1\n",
      "34   51    1       125   213       1\n",
      "28   65    0       140   417       1\n",
      "50   67    1       160   286       0\n",
      "11   48    0       130   275       1\n",
      "35   46    0       142   177       1\n",
      "23   61    1       150   243       1\n",
      "52   62    0       140   268       0\n",
      "10   54    1       140   239       1\n",
      "31   65    1       120   177       1\n",
      "66   65    0       150   225       0\n",
      "57   58    1       120   284       0\n",
      "79   60    1       140   185       0\n",
      "85   44    1       110   197       0\n",
      "32   44    1       130   219       1\n",
      "84   65    1       110   248       0\n",
      "14   58    0       150   283       1\n",
      "89   62    0       160   164       0\n",
      "19   69    0       140   239       1\n",
      "29   53    1       130   197       1\n",
      "49   53    0       138   234       1\n",
      "97   39    1       118   219       0\n",
      "98   61    0       145   307       0\n",
      "69   50    1       150   243       0\n",
      "20   59    1       135   234       1\n",
      "94   59    1       140   177       0\n",
      "72   54    1       124   266       0\n",
      "77   54    1       120   188       0\n",
      "25   71    0       160   302       1\n",
      "37   54    1       150   232       1\n",
      "81   46    1       150   231       0\n",
      "46   44    1       140   235       1\n",
      "39   65    0       160   360       1\n",
      "65   55    1       132   353       0\n",
      "58   58    1       132   224       0\n",
      "12   49    1       130   266       1\n",
      "88   68    1       180   274       0\n",
      "70   44    1       112   290       0\n",
      "87   58    1       150   270       0\n",
      "36   54    0       135   304       1\n",
      "21   44    1       130   233       1\n",
      "83   62    1       120   267       0\n",
      "9    57    1       150   168       1\n",
      "96   61    1       120   260       0\n",
      "67   61    0       130   330       0\n",
      "64   57    1       150   276       0\n",
      "47   47    1       138   257       1\n",
      "44   39    1       140   321       1\n",
      "\n",
      "\n",
      "Testing Data:\n",
      "==============\n",
      "\n",
      "    age  sex  trestbps  chol  target\n",
      "26   59    1       150   212       1\n",
      "86   60    1       125   258       0\n",
      "2    41    0       130   204       1\n",
      "55   56    1       130   256       0\n",
      "75   51    0       130   305       0\n",
      "93   49    1       120   188       0\n",
      "16   58    0       120   340       1\n",
      "73   50    1       140   233       0\n",
      "54   53    1       140   203       0\n",
      "95   57    1       128   229       0\n",
      "53   63    1       130   254       0\n",
      "92   60    0       150   258       0\n",
      "78   60    1       145   282       0\n",
      "13   64    1       110   211       1\n",
      "7    44    1       120   263       1\n",
      "30   41    0       105   198       1\n",
      "22   42    1       140   226       1\n",
      "24   40    1       140   199       1\n",
      "33   54    1       125   273       1\n",
      "8    52    1       172   199       1\n"
     ]
    }
   ],
   "source": [
    "# Splitting Sample Data into Training Data and Testing Data\n",
    "\n",
    "''' \n",
    "*------------------- SPLIT_SAMPLE_DATA ---------------------*\n",
    "|        Function: train_test_split()                       |\n",
    "|              Purpose: Split arrays or matrices into       |\n",
    "|                       random train and test subsets       |\n",
    "|        Arguments:                                         |\n",
    "|              arrays: sequence of indexables               |\n",
    "|              test_size: float or int                      |\n",
    "|        Return:                                            |\n",
    "|              splitting: list                              |\n",
    "*-----------------------------------------------------------*\n",
    "'''\n",
    "\n",
    "training_data, testing_data = train_test_split( sample_data , test_size=0.2 , random_state=0 , shuffle = True)\n",
    "\n",
    "# Save the Training and Testing Data into CSV File \n",
    "\n",
    "training_data.to_csv(r'training-data.csv', index = False, header = True)\n",
    "testing_data.to_csv(r'testing-data.csv', index = False, header = True)\n",
    "\n",
    "# print Training and Testing Data\n",
    "\n",
    "print(\"\\n\\nTraining Data:\")\n",
    "print(\"==============\\n\")\n",
    "pd.set_option(\"display.max_rows\", None, \"display.max_columns\", None)\n",
    "print(training_data)\n",
    "print(\"\\n\\nTesting Data:\")\n",
    "print(\"==============\\n\")\n",
    "pd.set_option(\"display.max_rows\", None, \"display.max_columns\", None)\n",
    "print(testing_data)"
   ]
  },
  {
   "cell_type": "markdown",
   "metadata": {},
   "source": [
    "## Step 6.2: Splitting Input Vectors and Outputs / Labels of Training Data"
   ]
  },
  {
   "cell_type": "code",
   "execution_count": 61,
   "metadata": {},
   "outputs": [
    {
     "name": "stdout",
     "output_type": "stream",
     "text": [
      "\n",
      "\n",
      "Inputs Vectors (Feature Vectors) of Training Data:\n",
      "==================================================\n",
      "\n",
      "    age  sex  trestbps  chol\n",
      "43   53    0       130   264\n",
      "62   64    1       140   335\n",
      "3    56    1       120   236\n",
      "71   60    1       130   253\n",
      "45   52    1       120   325\n",
      "48   53    0       128   216\n",
      "6    56    0       140   294\n",
      "99   56    1       125   249\n",
      "82   67    1       125   254\n",
      "76   58    1       128   216\n",
      "60   40    1       110   167\n",
      "80   59    1       170   326\n",
      "90   52    1       128   255\n",
      "68   58    1       112   230\n",
      "51   67    1       120   229\n",
      "27   51    1       110   175\n",
      "18   43    1       150   247\n",
      "56   48    1       110   229\n",
      "63   43    1       120   177\n",
      "74   41    1       110   172\n",
      "1    37    1       130   250\n",
      "61   60    1       117   230\n",
      "42   45    1       104   208\n",
      "41   48    1       130   245\n",
      "4    57    0       120   354\n",
      "15   50    0       120   219\n",
      "17   66    0       150   226\n",
      "40   51    0       140   308\n",
      "38   65    0       155   269\n",
      "5    57    1       140   192\n",
      "91   59    1       110   239\n",
      "59   60    1       130   206\n",
      "0    63    1       145   233\n",
      "34   51    1       125   213\n",
      "28   65    0       140   417\n",
      "50   67    1       160   286\n",
      "11   48    0       130   275\n",
      "35   46    0       142   177\n",
      "23   61    1       150   243\n",
      "52   62    0       140   268\n",
      "10   54    1       140   239\n",
      "31   65    1       120   177\n",
      "66   65    0       150   225\n",
      "57   58    1       120   284\n",
      "79   60    1       140   185\n",
      "85   44    1       110   197\n",
      "32   44    1       130   219\n",
      "84   65    1       110   248\n",
      "14   58    0       150   283\n",
      "89   62    0       160   164\n",
      "19   69    0       140   239\n",
      "29   53    1       130   197\n",
      "49   53    0       138   234\n",
      "97   39    1       118   219\n",
      "98   61    0       145   307\n",
      "69   50    1       150   243\n",
      "20   59    1       135   234\n",
      "94   59    1       140   177\n",
      "72   54    1       124   266\n",
      "77   54    1       120   188\n",
      "25   71    0       160   302\n",
      "37   54    1       150   232\n",
      "81   46    1       150   231\n",
      "46   44    1       140   235\n",
      "39   65    0       160   360\n",
      "65   55    1       132   353\n",
      "58   58    1       132   224\n",
      "12   49    1       130   266\n",
      "88   68    1       180   274\n",
      "70   44    1       112   290\n",
      "87   58    1       150   270\n",
      "36   54    0       135   304\n",
      "21   44    1       130   233\n",
      "83   62    1       120   267\n",
      "9    57    1       150   168\n",
      "96   61    1       120   260\n",
      "67   61    0       130   330\n",
      "64   57    1       150   276\n",
      "47   47    1       138   257\n",
      "44   39    1       140   321\n",
      "\n",
      "\n",
      "Outputs/Labels of Training Data:\n",
      "================================\n",
      "\n",
      "  Disease\n",
      "43    1\n",
      "62    0\n",
      "3     1\n",
      "71    0\n",
      "45    1\n",
      "48    1\n",
      "6     1\n",
      "99    0\n",
      "82    0\n",
      "76    0\n",
      "60    0\n",
      "80    0\n",
      "90    0\n",
      "68    0\n",
      "51    0\n",
      "27    1\n",
      "18    1\n",
      "56    0\n",
      "63    0\n",
      "74    0\n",
      "1     1\n",
      "61    0\n",
      "42    1\n",
      "41    1\n",
      "4     1\n",
      "15    1\n",
      "17    1\n",
      "40    1\n",
      "38    1\n",
      "5     1\n",
      "91    0\n",
      "59    0\n",
      "0     1\n",
      "34    1\n",
      "28    1\n",
      "50    0\n",
      "11    1\n",
      "35    1\n",
      "23    1\n",
      "52    0\n",
      "10    1\n",
      "31    1\n",
      "66    0\n",
      "57    0\n",
      "79    0\n",
      "85    0\n",
      "32    1\n",
      "84    0\n",
      "14    1\n",
      "89    0\n",
      "19    1\n",
      "29    1\n",
      "49    1\n",
      "97    0\n",
      "98    0\n",
      "69    0\n",
      "20    1\n",
      "94    0\n",
      "72    0\n",
      "77    0\n",
      "25    1\n",
      "37    1\n",
      "81    0\n",
      "46    1\n",
      "39    1\n",
      "65    0\n",
      "58    0\n",
      "12    1\n",
      "88    0\n",
      "70    0\n",
      "87    0\n",
      "36    1\n",
      "21    1\n",
      "83    0\n",
      "9     1\n",
      "96    0\n",
      "67    0\n",
      "64    0\n",
      "47    1\n",
      "44    1\n",
      "Name: target, dtype: int64\n"
     ]
    }
   ],
   "source": [
    "# Splitting Input Vectors and Outputs / Labels of Training Data\n",
    "\n",
    "'''\n",
    "*---------------- SPLIT_INPUT_VECTORS_AND_LABELS --------------*\n",
    "|        Function: iloc()                                      |\n",
    "|            Purpose: Splitting Input Vector and Labels        |\n",
    "|        Arguments:                                            |\n",
    "|            Attribute: Name or Location Attribute to Split    |\n",
    "|        Return:                                               |\n",
    "|            Attribute: Split Attributes                       |\n",
    "*--------------------------------------------------------------*\n",
    "'''\n",
    "\n",
    "print(\"\\n\\nInputs Vectors (Feature Vectors) of Training Data:\")\n",
    "print(\"==================================================\\n\")\n",
    "input_vector_train = training_data.iloc[: , :-1]\n",
    "print(input_vector_train)\n",
    "\n",
    "print(\"\\n\\nOutputs/Labels of Training Data:\")\n",
    "print(\"================================\\n\")\n",
    "print(\"  Disease\")\n",
    "output_label_train = training_data.iloc[: ,-1]\n",
    "print(output_label_train)"
   ]
  },
  {
   "cell_type": "markdown",
   "metadata": {},
   "source": [
    "## 6.3: Train the Support Vector Classifier"
   ]
  },
  {
   "cell_type": "code",
   "execution_count": 62,
   "metadata": {},
   "outputs": [
    {
     "name": "stdout",
     "output_type": "stream",
     "text": [
      "\n",
      "\n",
      "Training the Support Vector Classifier on Training Data\n",
      "========================================================\n",
      "\n",
      "\n",
      "Parameters and their values:\n",
      "============================\n",
      "\n",
      "SVC(gamma='auto', random_state=0)\n"
     ]
    }
   ],
   "source": [
    "# Train the Support Vector Classifier\n",
    "\n",
    "''' \n",
    "*--------------- TRAIN_SUPPORT_VECTOR_CLASSIFIER ------------------*\n",
    "|       Function: svm.SVC()                                        |\n",
    "|           Purpose: Train the Algorithm on Training Data          |\n",
    "|       Arguments:                                                 |\n",
    "|           Training Data: Provide Training Data to the Model      |\n",
    "|       Return:                                                    |\n",
    "|           Parameter: Model return the Training Parameters        |\n",
    "*------------------------------------------------------------------*\n",
    "'''\n",
    "\n",
    "print(\"\\n\\nTraining the Support Vector Classifier on Training Data\")\n",
    "print(\"========================================================\\n\")\n",
    "print(\"\\nParameters and their values:\")\n",
    "print(\"============================\\n\")\n",
    "svc_model = svm.SVC(gamma='auto',random_state=0)\n",
    "svc_model.fit(input_vector_train,np.ravel(output_label_train))\n",
    "print(svc_model)"
   ]
  },
  {
   "cell_type": "markdown",
   "metadata": {},
   "source": [
    "## Step 6.4: Save the Trained Model"
   ]
  },
  {
   "cell_type": "code",
   "execution_count": 63,
   "metadata": {},
   "outputs": [],
   "source": [
    "# Save the Trained Model\n",
    "\n",
    "''' \n",
    "*--------------------- SAVE_THE_TRAINED_MODEL ---------------------*\n",
    "|        Function: dump()                                          |\n",
    "|             Purpose: Save the Trained Model on your Hard Disk    |\n",
    "|        Arguments:                                                |\n",
    "|             Model: Model Objects                                 |\n",
    "|        Return:                                                   |\n",
    "|             File: Trained Model will be Saved on Hard Disk       |\n",
    "*------------------------------------------------------------------* \n",
    "'''\n",
    "\n",
    "# Save the Model in a Pkl File\n",
    "\n",
    "pickle.dump(svc_model, open('svc_trained_model_heart_disease.pkl', 'wb'))"
   ]
  },
  {
   "cell_type": "markdown",
   "metadata": {},
   "source": [
    "# Step 7: Execute the Testing Phase "
   ]
  },
  {
   "cell_type": "markdown",
   "metadata": {},
   "source": [
    "## Step 7.1: Splitting Input Vectors and Outputs/Labels of Testing Data"
   ]
  },
  {
   "cell_type": "code",
   "execution_count": 64,
   "metadata": {},
   "outputs": [
    {
     "name": "stdout",
     "output_type": "stream",
     "text": [
      "\n",
      "\n",
      "Inputs Vectors (Feature Vectors) of Testing Data:\n",
      "=================================================\n",
      "\n",
      "    age  sex  trestbps  chol\n",
      "26   59    1       150   212\n",
      "86   60    1       125   258\n",
      "2    41    0       130   204\n",
      "55   56    1       130   256\n",
      "75   51    0       130   305\n",
      "93   49    1       120   188\n",
      "16   58    0       120   340\n",
      "73   50    1       140   233\n",
      "54   53    1       140   203\n",
      "95   57    1       128   229\n",
      "53   63    1       130   254\n",
      "92   60    0       150   258\n",
      "78   60    1       145   282\n",
      "13   64    1       110   211\n",
      "7    44    1       120   263\n",
      "30   41    0       105   198\n",
      "22   42    1       140   226\n",
      "24   40    1       140   199\n",
      "33   54    1       125   273\n",
      "8    52    1       172   199\n",
      "\n",
      "\n",
      "Outputs/Labels of Testing Data:\n",
      "==============================\n",
      "\n",
      "  Disease\n",
      "26    1\n",
      "86    0\n",
      "2     1\n",
      "55    0\n",
      "75    0\n",
      "93    0\n",
      "16    1\n",
      "73    0\n",
      "54    0\n",
      "95    0\n",
      "53    0\n",
      "92    0\n",
      "78    0\n",
      "13    1\n",
      "7     1\n",
      "30    1\n",
      "22    1\n",
      "24    1\n",
      "33    1\n",
      "8     1\n",
      "Name: target, dtype: int64\n"
     ]
    }
   ],
   "source": [
    "# Splitting Input Vectors and Outputs/Labels of Testing Data\n",
    "\n",
    "'''\n",
    "*---------------- SPLIT_INPUT_VECTORS_AND_LABELS --------------*\n",
    "|        Function: iloc()                                      |\n",
    "|            Purpose: Splitting Input Vector and Labels        |\n",
    "|        Arguments:                                            |\n",
    "|            Attribute: Name or Location Attribute to Split    |\n",
    "|        Return:                                               |\n",
    "|            Attribute: Split Attributes                       |\n",
    "*--------------------------------------------------------------*\n",
    "'''\n",
    "\n",
    "print(\"\\n\\nInputs Vectors (Feature Vectors) of Testing Data:\")\n",
    "print(\"=================================================\\n\")\n",
    "input_vector_test = testing_data.iloc[: , :-1]\n",
    "print(input_vector_test)\n",
    "\n",
    "print(\"\\n\\nOutputs/Labels of Testing Data:\")\n",
    "print(\"==============================\\n\")\n",
    "print(\"  Disease\")\n",
    "output_label_test = testing_data.iloc[: ,-1]\n",
    "print(output_label_test)"
   ]
  },
  {
   "cell_type": "markdown",
   "metadata": {},
   "source": [
    "## Step 7.2: Load the Saved Model"
   ]
  },
  {
   "cell_type": "code",
   "execution_count": 65,
   "metadata": {},
   "outputs": [],
   "source": [
    "# Load the Saved Model\n",
    "\n",
    "''' \n",
    "*------------------- LOAD_SAVED_MODEL --------------------------*\n",
    "|         Function: load()                                      |\n",
    "|               Purpose: Method to Load Previously Saved Model  |\n",
    "|         Arguments:                                            |\n",
    "|               Model: Trained Model                            |\n",
    "|         Return:                                               |\n",
    "|               File: Saved Model will be Loaded in Memory      |\n",
    "*---------------------------------------------------------------*\n",
    "'''\n",
    "\n",
    "# Load the Saved Model\n",
    "\n",
    "model = pickle.load(open('svc_trained_model_heart_disease.pkl', 'rb'))"
   ]
  },
  {
   "cell_type": "markdown",
   "metadata": {},
   "source": [
    "## Step 7.3: Evaluate the Machine Learning Model\n",
    "### Step 7.3.1: Make Predictions with the Trained Models on Testing Data"
   ]
  },
  {
   "cell_type": "code",
   "execution_count": 66,
   "metadata": {},
   "outputs": [
    {
     "name": "stdout",
     "output_type": "stream",
     "text": [
      "\n",
      "\n",
      "Predictions Returned by svc_trained_model:\n",
      "==========================================\n",
      "\n",
      "    age  sex  trestbps  chol  target  Predictions\n",
      "26   59    1       150   212       1            0\n",
      "86   60    1       125   258       0            0\n",
      "2    41    0       130   204       1            0\n",
      "55   56    1       130   256       0            0\n",
      "75   51    0       130   305       0            0\n",
      "93   49    1       120   188       0            0\n",
      "16   58    0       120   340       1            0\n",
      "73   50    1       140   233       0            1\n",
      "54   53    1       140   203       0            0\n",
      "95   57    1       128   229       0            0\n",
      "53   63    1       130   254       0            0\n",
      "92   60    0       150   258       0            0\n",
      "78   60    1       145   282       0            1\n",
      "13   64    1       110   211       1            0\n",
      "7    44    1       120   263       1            0\n",
      "30   41    0       105   198       1            0\n",
      "22   42    1       140   226       1            0\n",
      "24   40    1       140   199       1            0\n",
      "33   54    1       125   273       1            0\n",
      "8    52    1       172   199       1            0\n"
     ]
    }
   ],
   "source": [
    "# Evaluate the Machine Learning Model\n",
    "\n",
    "''' \n",
    "*--------------------- EVALUATE_MACHINE_LEARNING_MODEL ----------------------*\n",
    "|       Function: Predict()                                                  |\n",
    "|             Purpose: Make a Prediction using Algorithm on Test Data        |\n",
    "|       Arguments:                                                           |\n",
    "|            Testing Data: Provide Test data to the Trained Model            |\n",
    "|       Return:                                                              |\n",
    "|            Predictions: Model return Predictions                           |\n",
    "*----------------------------------------------------------------------------* \n",
    "'''\n",
    "\n",
    "# Provide Test data to the Trained Model\n",
    "\n",
    "model_predictions = model.predict(input_vector_test)\n",
    "testing_data.copy(deep=True)\n",
    "pd.options.mode.chained_assignment = None\n",
    "testing_data[\"Predictions\"] = model_predictions\n",
    "\n",
    "# Save the Predictions into CSV File\n",
    "\n",
    "testing_data.to_csv(r'model-predictions_heart_disease.csv', index = False, header = True)\n",
    "\n",
    "model_predictions = testing_data\n",
    "print(\"\\n\\nPredictions Returned by svc_trained_model:\")\n",
    "print(\"==========================================\\n\")\n",
    "print(model_predictions)"
   ]
  },
  {
   "cell_type": "markdown",
   "metadata": {},
   "source": [
    "## Step 7.4: Calculate the Accuracy Score"
   ]
  },
  {
   "cell_type": "code",
   "execution_count": 67,
   "metadata": {},
   "outputs": [
    {
     "name": "stdout",
     "output_type": "stream",
     "text": [
      "\n",
      "\n",
      "Accuracy Score:\n",
      "===============\n",
      "\n",
      "0.4\n"
     ]
    }
   ],
   "source": [
    "# Calculate the Accuracy Score\n",
    "\n",
    "''' \n",
    "/*------------------------ CALCULATE_ACCURACY_SCORE -------------------*\n",
    "|          Function: accuracy_score()                                  |\n",
    "|                Purpose: Evaluate the algorithm on Testing data       |\n",
    "|          Arguments:                                                  |\n",
    "|                Prediction: Predicted values                          |\n",
    "|                Label: Actual values                                  |\n",
    "|          Return:                                                     |\n",
    "|                Accuracy: Accuracy Score                              |\n",
    "*----------------------------------------------------------------------*\n",
    "'''\n",
    "\n",
    "# Calculate the Accuracy\n",
    "\n",
    "model_accuracy_score = accuracy_score(model_predictions[\"target\"],model_predictions[\"Predictions\"])\n",
    "\n",
    "print(\"\\n\\nAccuracy Score:\")\n",
    "print(\"===============\\n\")\n",
    "print(round(model_accuracy_score,2))"
   ]
  },
  {
   "cell_type": "markdown",
   "metadata": {},
   "source": [
    "# Step 8: Execute the Application Phase"
   ]
  },
  {
   "cell_type": "markdown",
   "metadata": {},
   "source": [
    "## Step 8.1: Take Input from User"
   ]
  },
  {
   "cell_type": "code",
   "execution_count": 71,
   "metadata": {},
   "outputs": [
    {
     "name": "stdout",
     "output_type": "stream",
     "text": [
      "\n",
      "Please enter your age here : 33\n",
      "\n",
      "Please enter your Gender here (1 for Male, 0 for Female) : 1\n",
      "\n",
      "Please enter your resting blood pressure : 120\n",
      "\n",
      "Please enter cholestrol number : 220\n"
     ]
    }
   ],
   "source": [
    "# Take Input from User\n",
    "\n",
    "''' \n",
    "*---------------- TAKE_USER_INPUT ----------------*\n",
    "'''\n",
    "\n",
    "age_input = input(\"\\nPlease enter your age here : \")\n",
    "gender_input = input(\"\\nPlease enter your Gender here (1 for Male, 0 for Female) : \")\n",
    "trestbps_input = input(\"\\nPlease enter your resting blood pressure : \")\n",
    "chol_input = input(\"\\nPlease enter cholestrol number : \")"
   ]
  },
  {
   "cell_type": "markdown",
   "metadata": {},
   "source": [
    "## Step 8.2: Convert User Input into Feature Vector (Exactly Same as Feature Vectors of Sample Data)"
   ]
  },
  {
   "cell_type": "code",
   "execution_count": 77,
   "metadata": {},
   "outputs": [
    {
     "name": "stdout",
     "output_type": "stream",
     "text": [
      "\n",
      "\n",
      "User Input Feature Vector:\n",
      "==========================\n",
      "\n",
      "  age sex trestbps chol\n",
      "0  33   1      120  220\n"
     ]
    }
   ],
   "source": [
    "# Convert User Input into Feature Vector\n",
    "\n",
    "user_input = pd.DataFrame({ 'age': [age_input],'sex': [gender_input],'trestbps': [trestbps_input],'chol': [chol_input]})\n",
    "\n",
    "print(\"\\n\\nUser Input Feature Vector:\")\n",
    "print(\"==========================\\n\")\n",
    "print(user_input)"
   ]
  },
  {
   "cell_type": "markdown",
   "metadata": {},
   "source": [
    "## Step 8.3: Label Encoding of Feature Vector (Exactly Same as Label Encoded Feature Vectors of Sample Data)"
   ]
  },
  {
   "cell_type": "markdown",
   "metadata": {},
   "source": [
    "## Step 8.4: Load the Saved Model"
   ]
  },
  {
   "cell_type": "code",
   "execution_count": 78,
   "metadata": {},
   "outputs": [],
   "source": [
    "# Load the Saved Model\n",
    "\n",
    "''' \n",
    "*----------------------- LOAD_SAVED_MODEL --------------------------*\n",
    "|         Function: load()                                          |\n",
    "|             Purpose: Method to Load Previously Saved Model        |\n",
    "|         Arguments:                                                |\n",
    "|               Model: Trained Model                                |\n",
    "|         Return:                                                   |\n",
    "|               File: Saved Model will be Loaded in Memory          |\n",
    "*-------------------------------------------------------------------*\n",
    "'''\n",
    "\n",
    "# Load the Saved Model\n",
    "\n",
    "model = pickle.load(open('svc_trained_model_heart_disease.pkl', 'rb'))"
   ]
  },
  {
   "cell_type": "markdown",
   "metadata": {},
   "source": [
    "## Step 8.5: Model Prediction\n",
    "### Step 8.5.1: Apply Model on the Label Encoded Feature Vector of unseen instance and return Prediction to the User"
   ]
  },
  {
   "cell_type": "code",
   "execution_count": 80,
   "metadata": {},
   "outputs": [
    {
     "name": "stdout",
     "output_type": "stream",
     "text": [
      "+--------------------------------+\n",
      "|        ** Prediction **        |\n",
      "+--------------------------------+\n",
      "|        No Heart Disease        |\n",
      "+--------------------------------+\n"
     ]
    }
   ],
   "source": [
    "# Prediction of Unseen Instance\n",
    "\n",
    "''' \n",
    "*----------------------------  MODEL_PREDICTION --------------------------*\n",
    "|           Function: predict()                                           |\n",
    "|                 Purpose: Use Trained Model to Predict the Output        |\n",
    "|                          of Unseen Instances                            |\n",
    "|           Arguments:                                                    |\n",
    "|                 User Data: Label Encoded Feature Vector of              |\n",
    "|                            Unseen Instances                             |\n",
    "|           Return:                                                       |\n",
    "|                 Survival: Survived or Not Survived                      |\n",
    "*-------------------------------------------------------------------------*\n",
    "'''\n",
    "\n",
    "# Make a Prediction on Unseen Data\n",
    "\n",
    "predicted_survival = model.predict(user_input)\n",
    "\n",
    "if(predicted_survival == 1): \n",
    "    prediction = \"Have Heart Disease\"\n",
    "if(predicted_survival == 0):\n",
    "    prediction = \"No Heart Disease\"\n",
    "\n",
    "# Add the Prediction in a Pretty Table\n",
    "\n",
    "pretty_table = PrettyTable()\n",
    "pretty_table.add_column(\"       ** Prediction **       \",[prediction])\n",
    "print(pretty_table)"
   ]
  },
  {
   "cell_type": "markdown",
   "metadata": {},
   "source": [
    "# Step 9: Execute the Feedback Phase\n",
    "## A Two-Step Process\n",
    "### Step 01: After some time, take Feedback from\n",
    "    o\tDomain Experts and Users on deployed Titanic Passenger Survival Prediction System\n",
    "### Step 02: Make a List of Possible Improvements based on Feedback received"
   ]
  },
  {
   "cell_type": "markdown",
   "metadata": {},
   "source": [
    "# Step 10: Improve Model based on Feedback\n",
    "### There is Always Room for Improvement\n",
    "### Based on Feedback from Domain Experts and Users\n",
    "    o\tImprove your Model"
   ]
  }
 ],
 "metadata": {
  "kernelspec": {
   "display_name": "Python 3 (ipykernel)",
   "language": "python",
   "name": "python3"
  },
  "language_info": {
   "codemirror_mode": {
    "name": "ipython",
    "version": 3
   },
   "file_extension": ".py",
   "mimetype": "text/x-python",
   "name": "python",
   "nbconvert_exporter": "python",
   "pygments_lexer": "ipython3",
   "version": "3.10.9"
  }
 },
 "nbformat": 4,
 "nbformat_minor": 2
}
